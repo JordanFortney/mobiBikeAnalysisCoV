{
 "metadata": {
  "language_info": {
   "codemirror_mode": {
    "name": "ipython",
    "version": 3
   },
   "file_extension": ".py",
   "mimetype": "text/x-python",
   "name": "python",
   "nbconvert_exporter": "python",
   "pygments_lexer": "ipython3",
   "version": "3.8.10"
  },
  "orig_nbformat": 2,
  "kernelspec": {
   "name": "python3810jvsc74a57bd0f2575392019334285e0602a4035eec46b9260ee4c95297ea34ade6e3c8b8fcaf",
   "display_name": "Python 3.8.10 64-bit"
  },
  "metadata": {
   "interpreter": {
    "hash": "f2575392019334285e0602a4035eec46b9260ee4c95297ea34ade6e3c8b8fcaf"
   }
  }
 },
 "nbformat": 4,
 "nbformat_minor": 2,
 "cells": [
  {
   "cell_type": "code",
   "execution_count": 127,
   "metadata": {},
   "outputs": [],
   "source": [
    "import pandas as pd\n",
    "import os\n",
    "import io"
   ]
  },
  {
   "cell_type": "code",
   "execution_count": 128,
   "metadata": {},
   "outputs": [],
   "source": [
    "myPath = 'data'\n",
    "for file in os.listdir(myPath):\n",
    "    if file.endswith('.xlsx'):\n",
    "        tempXlsx = pd.read_excel(os.path.join(myPath,file))\n",
    "        newName = str(myPath+\"/\"+file[:-4]+'csv')\n",
    "        tempXlsx.to_csv(newName, index = None, header = True)"
   ]
  },
  {
   "cell_type": "code",
   "execution_count": 140,
   "metadata": {},
   "outputs": [
    {
     "output_type": "execute_result",
     "data": {
      "text/plain": [
       "                  Departure               Return  Account    Bike  \\\n",
       "0       2018-01-01 00:00:00  2018-01-01 00:00:00  ID00001   754.0   \n",
       "1       2018-01-01 00:00:00  2018-01-01 00:00:00  ID00001   754.0   \n",
       "2       2018-01-01 00:00:00  2018-01-01 00:00:00  ID00002   517.0   \n",
       "3       2018-01-01 00:00:00  2018-01-01 00:00:00  ID00003   231.0   \n",
       "4       2018-01-01 00:00:00  2018-01-01 00:00:00  ID00004  1302.0   \n",
       "...                     ...                  ...      ...     ...   \n",
       "573701  2017-01-01 02:00:00  2017-01-01 02:00:00  ID00324  1130.0   \n",
       "573702  2017-01-01 02:00:00  2017-01-01 02:00:00  ID00918   139.0   \n",
       "573703  2017-01-01 01:00:00  2017-01-01 02:00:00  ID00016    71.0   \n",
       "573704  2017-01-01 01:00:00  2017-01-01 01:00:00  ID01272   935.0   \n",
       "573705  2017-01-01 00:00:00  2017-01-01 01:00:00  ID00508  1209.0   \n",
       "\n",
       "             Departure station                      Return station  \\\n",
       "0       0048 Comox & Broughton                0002 Burrard Station   \n",
       "1       0048 Comox & Broughton              0048 Comox & Broughton   \n",
       "2         0093 Chilco & Robson  0035 Coal Harbour Community Centre   \n",
       "3        0071 14th & Granville                   0211 14th & Alder   \n",
       "4            0187 Bute & Davie              0079 Nelson & Richards   \n",
       "...                        ...                                 ...   \n",
       "573701    0024 Hornby & Pender                   0050 Bute & Comox   \n",
       "573702    0024 Hornby & Pender                0031 Morton & Denman   \n",
       "573703    0037 Hornby & Nelson                  0064 Expo & Smithe   \n",
       "573704   76-0067 Cypress & 7th           0148 Creekside Park North   \n",
       "573705   0030 Abbott & Cordova                0069 7th & Granville   \n",
       "\n",
       "                   Membership type  Covered distance (m)  Duration (sec.)  \\\n",
       "0            365 Day Founding Plus                1382.0              402   \n",
       "1            365 Day Founding Plus                   0.0               17   \n",
       "2        365 Day Founding Standard                1960.0             1015   \n",
       "3               365 Corporate Plus                 624.0              194   \n",
       "4            365 Day Founding Plus                1756.0              571   \n",
       "...                            ...                   ...              ...   \n",
       "573701      Archived Founding Plus                1696.0              639   \n",
       "573702  Archived Founding Standard                2822.0              966   \n",
       "573703      Archived Founding Plus                5378.0             1854   \n",
       "573704  Archived Founding Standard                4692.0             1391   \n",
       "573705   Archived Monthly Standard                4694.0             1634   \n",
       "\n",
       "        Departure battery voltage (mV)  Return battery voltage (mV)  \\\n",
       "0                                 3715                         3903   \n",
       "1                                 3797                         3861   \n",
       "2                                 3645                         3795   \n",
       "3                                 3650                         3790   \n",
       "4                                 3686                         3868   \n",
       "...                                ...                          ...   \n",
       "573701                            3735                         3866   \n",
       "573702                            3647                         3848   \n",
       "573703                            3698                         3892   \n",
       "573704                            3879                         4116   \n",
       "573705                            3692                         3893   \n",
       "\n",
       "        Departure temperature (°C)  Return temperature (°C)  \\\n",
       "0                                2                        4   \n",
       "1                                2                        1   \n",
       "2                                0                        1   \n",
       "3                                0                        1   \n",
       "4                                2                        3   \n",
       "...                            ...                      ...   \n",
       "573701                           4                        5   \n",
       "573702                           4                        6   \n",
       "573703                           4                        6   \n",
       "573704                           3                        6   \n",
       "573705                           4                        2   \n",
       "\n",
       "        Stopover duration (sec.)  Number of stopovers  \n",
       "0                              0                    0  \n",
       "1                              0                    0  \n",
       "2                              0                    0  \n",
       "3                              0                    0  \n",
       "4                              0                    0  \n",
       "...                          ...                  ...  \n",
       "573701                         0                    0  \n",
       "573702                         0                    0  \n",
       "573703                       321                    1  \n",
       "573704                         0                    0  \n",
       "573705                         0                    0  \n",
       "\n",
       "[573706 rows x 15 columns]"
      ],
      "text/html": "<div>\n<style scoped>\n    .dataframe tbody tr th:only-of-type {\n        vertical-align: middle;\n    }\n\n    .dataframe tbody tr th {\n        vertical-align: top;\n    }\n\n    .dataframe thead th {\n        text-align: right;\n    }\n</style>\n<table border=\"1\" class=\"dataframe\">\n  <thead>\n    <tr style=\"text-align: right;\">\n      <th></th>\n      <th>Departure</th>\n      <th>Return</th>\n      <th>Account</th>\n      <th>Bike</th>\n      <th>Departure station</th>\n      <th>Return station</th>\n      <th>Membership type</th>\n      <th>Covered distance (m)</th>\n      <th>Duration (sec.)</th>\n      <th>Departure battery voltage (mV)</th>\n      <th>Return battery voltage (mV)</th>\n      <th>Departure temperature (°C)</th>\n      <th>Return temperature (°C)</th>\n      <th>Stopover duration (sec.)</th>\n      <th>Number of stopovers</th>\n    </tr>\n  </thead>\n  <tbody>\n    <tr>\n      <th>0</th>\n      <td>2018-01-01 00:00:00</td>\n      <td>2018-01-01 00:00:00</td>\n      <td>ID00001</td>\n      <td>754.0</td>\n      <td>0048 Comox &amp; Broughton</td>\n      <td>0002 Burrard Station</td>\n      <td>365 Day Founding Plus</td>\n      <td>1382.0</td>\n      <td>402</td>\n      <td>3715</td>\n      <td>3903</td>\n      <td>2</td>\n      <td>4</td>\n      <td>0</td>\n      <td>0</td>\n    </tr>\n    <tr>\n      <th>1</th>\n      <td>2018-01-01 00:00:00</td>\n      <td>2018-01-01 00:00:00</td>\n      <td>ID00001</td>\n      <td>754.0</td>\n      <td>0048 Comox &amp; Broughton</td>\n      <td>0048 Comox &amp; Broughton</td>\n      <td>365 Day Founding Plus</td>\n      <td>0.0</td>\n      <td>17</td>\n      <td>3797</td>\n      <td>3861</td>\n      <td>2</td>\n      <td>1</td>\n      <td>0</td>\n      <td>0</td>\n    </tr>\n    <tr>\n      <th>2</th>\n      <td>2018-01-01 00:00:00</td>\n      <td>2018-01-01 00:00:00</td>\n      <td>ID00002</td>\n      <td>517.0</td>\n      <td>0093 Chilco &amp; Robson</td>\n      <td>0035 Coal Harbour Community Centre</td>\n      <td>365 Day Founding Standard</td>\n      <td>1960.0</td>\n      <td>1015</td>\n      <td>3645</td>\n      <td>3795</td>\n      <td>0</td>\n      <td>1</td>\n      <td>0</td>\n      <td>0</td>\n    </tr>\n    <tr>\n      <th>3</th>\n      <td>2018-01-01 00:00:00</td>\n      <td>2018-01-01 00:00:00</td>\n      <td>ID00003</td>\n      <td>231.0</td>\n      <td>0071 14th &amp; Granville</td>\n      <td>0211 14th &amp; Alder</td>\n      <td>365 Corporate Plus</td>\n      <td>624.0</td>\n      <td>194</td>\n      <td>3650</td>\n      <td>3790</td>\n      <td>0</td>\n      <td>1</td>\n      <td>0</td>\n      <td>0</td>\n    </tr>\n    <tr>\n      <th>4</th>\n      <td>2018-01-01 00:00:00</td>\n      <td>2018-01-01 00:00:00</td>\n      <td>ID00004</td>\n      <td>1302.0</td>\n      <td>0187 Bute &amp; Davie</td>\n      <td>0079 Nelson &amp; Richards</td>\n      <td>365 Day Founding Plus</td>\n      <td>1756.0</td>\n      <td>571</td>\n      <td>3686</td>\n      <td>3868</td>\n      <td>2</td>\n      <td>3</td>\n      <td>0</td>\n      <td>0</td>\n    </tr>\n    <tr>\n      <th>...</th>\n      <td>...</td>\n      <td>...</td>\n      <td>...</td>\n      <td>...</td>\n      <td>...</td>\n      <td>...</td>\n      <td>...</td>\n      <td>...</td>\n      <td>...</td>\n      <td>...</td>\n      <td>...</td>\n      <td>...</td>\n      <td>...</td>\n      <td>...</td>\n      <td>...</td>\n    </tr>\n    <tr>\n      <th>573701</th>\n      <td>2017-01-01 02:00:00</td>\n      <td>2017-01-01 02:00:00</td>\n      <td>ID00324</td>\n      <td>1130.0</td>\n      <td>0024 Hornby &amp; Pender</td>\n      <td>0050 Bute &amp; Comox</td>\n      <td>Archived Founding Plus</td>\n      <td>1696.0</td>\n      <td>639</td>\n      <td>3735</td>\n      <td>3866</td>\n      <td>4</td>\n      <td>5</td>\n      <td>0</td>\n      <td>0</td>\n    </tr>\n    <tr>\n      <th>573702</th>\n      <td>2017-01-01 02:00:00</td>\n      <td>2017-01-01 02:00:00</td>\n      <td>ID00918</td>\n      <td>139.0</td>\n      <td>0024 Hornby &amp; Pender</td>\n      <td>0031 Morton &amp; Denman</td>\n      <td>Archived Founding Standard</td>\n      <td>2822.0</td>\n      <td>966</td>\n      <td>3647</td>\n      <td>3848</td>\n      <td>4</td>\n      <td>6</td>\n      <td>0</td>\n      <td>0</td>\n    </tr>\n    <tr>\n      <th>573703</th>\n      <td>2017-01-01 01:00:00</td>\n      <td>2017-01-01 02:00:00</td>\n      <td>ID00016</td>\n      <td>71.0</td>\n      <td>0037 Hornby &amp; Nelson</td>\n      <td>0064 Expo &amp; Smithe</td>\n      <td>Archived Founding Plus</td>\n      <td>5378.0</td>\n      <td>1854</td>\n      <td>3698</td>\n      <td>3892</td>\n      <td>4</td>\n      <td>6</td>\n      <td>321</td>\n      <td>1</td>\n    </tr>\n    <tr>\n      <th>573704</th>\n      <td>2017-01-01 01:00:00</td>\n      <td>2017-01-01 01:00:00</td>\n      <td>ID01272</td>\n      <td>935.0</td>\n      <td>76-0067 Cypress &amp; 7th</td>\n      <td>0148 Creekside Park North</td>\n      <td>Archived Founding Standard</td>\n      <td>4692.0</td>\n      <td>1391</td>\n      <td>3879</td>\n      <td>4116</td>\n      <td>3</td>\n      <td>6</td>\n      <td>0</td>\n      <td>0</td>\n    </tr>\n    <tr>\n      <th>573705</th>\n      <td>2017-01-01 00:00:00</td>\n      <td>2017-01-01 01:00:00</td>\n      <td>ID00508</td>\n      <td>1209.0</td>\n      <td>0030 Abbott &amp; Cordova</td>\n      <td>0069 7th &amp; Granville</td>\n      <td>Archived Monthly Standard</td>\n      <td>4694.0</td>\n      <td>1634</td>\n      <td>3692</td>\n      <td>3893</td>\n      <td>4</td>\n      <td>2</td>\n      <td>0</td>\n      <td>0</td>\n    </tr>\n  </tbody>\n</table>\n<p>573706 rows × 15 columns</p>\n</div>"
     },
     "metadata": {},
     "execution_count": 140
    }
   ],
   "source": [
    "mobiDF = pd.read_csv('data/Mobi_System_Data_2017.csv')\n",
    "mobiDF"
   ]
  },
  {
   "cell_type": "code",
   "execution_count": 141,
   "metadata": {},
   "outputs": [
    {
     "output_type": "execute_result",
     "data": {
      "text/plain": [
       "Departure                               0\n",
       "Return                                153\n",
       "Account                           2335036\n",
       "Bike                                 1190\n",
       "Departure station                       9\n",
       "Return station                        253\n",
       "Membership type                    395298\n",
       "Covered distance (m)                    0\n",
       "Duration (sec.)                         0\n",
       "Departure battery voltage (mV)      53521\n",
       "Return battery voltage (mV)         53521\n",
       "Departure temperature (°C)        1507445\n",
       "Return temperature (°C)           1539707\n",
       "Stopover duration (sec.)            62853\n",
       "Number of stopovers                288879\n",
       "Formula                           2862692\n",
       "Membership Type                   2559468\n",
       "Departure slot                    2719422\n",
       "Return slot                       2719155\n",
       "Departure temperature (deg C)     2869232\n",
       "Return temperature (deg C)        2869232\n",
       "Departure temperature (C)         1440283\n",
       "Return temperature (C)            1440283\n",
       "Stopover duration                 2845627\n",
       "Manager                           2782010\n",
       "Number of bike stopovers          2619601\n",
       "Return temperature (Â°C)          2876218\n",
       "dtype: int64"
      ]
     },
     "metadata": {},
     "execution_count": 141
    }
   ],
   "source": [
    "myPath = 'data'\n",
    "for file in os.listdir(myPath):\n",
    "    if (file.endswith(\".csv\")) and (file != 'Mobi_System_Data_2017.csv') :\n",
    "        tempDF = pd.read_csv(myPath+\"/\"+file)\n",
    "        mobiDF = mobiDF.append(tempDF)\n",
    "mobiDF.isna().sum()"
   ]
  },
  {
   "cell_type": "code",
   "execution_count": 142,
   "metadata": {},
   "outputs": [
    {
     "output_type": "execute_result",
     "data": {
      "text/plain": [
       "Departure                               0\n",
       "Return                                153\n",
       "Account                           2335036\n",
       "Bike                                 1190\n",
       "Departure station                       9\n",
       "Return station                        253\n",
       "Membership type                       498\n",
       "Covered distance (m)                    0\n",
       "Duration (sec.)                         0\n",
       "Departure battery voltage (mV)      53521\n",
       "Return battery voltage (mV)         53521\n",
       "Departure temperature (°C)              0\n",
       "Return temperature (°C)                 0\n",
       "Stopover duration (sec.)                0\n",
       "Number of stopovers                     0\n",
       "Departure slot                    2719422\n",
       "Return slot                       2719155\n",
       "Manager                           2782010\n",
       "dtype: int64"
      ]
     },
     "metadata": {},
     "execution_count": 142
    }
   ],
   "source": [
    "mobiDF = pd.read_csv('data/Mobi_System_Data_2017.csv')\n",
    "\n",
    "myPath = 'data'\n",
    "for file in os.listdir(myPath):\n",
    "    if (file.endswith(\".csv\")) and (file != 'Mobi_System_Data_2017.csv') :\n",
    "        tempDF = pd.read_csv(myPath+\"/\"+file)\n",
    "        for col in tempDF.columns:\n",
    "            if col == 'Formula':\n",
    "                tempDF.rename(columns = {'Formula':'Membership type'}, inplace = True)\n",
    "            elif col == 'Membership Type':\n",
    "                tempDF.rename(columns = {'Membership Type':'Membership type'}, inplace = True)\n",
    "            elif col == 'Departure temperature (C)':\n",
    "                tempDF.rename(columns = {'Departure temperature (C)':'Departure temperature (°C)'}, inplace = True)\n",
    "            elif col == 'Departure temperature (deg C)':\n",
    "                tempDF.rename(columns = {'Departure temperature (deg C)':'Departure temperature (°C)'}, inplace = True)\n",
    "            elif col == 'Return temperature (C)':\n",
    "                tempDF.rename(columns = {'Return temperature (C)':'Return temperature (°C)'}, inplace = True)\n",
    "            elif col == 'Return temperature (deg C)':\n",
    "                tempDF.rename(columns = {'Return temperature (deg C)':'Return temperature (°C)'}, inplace = True)\n",
    "            elif col == 'Return temperature (Â°C)':\n",
    "                tempDF.rename(columns = {'Return temperature (Â°C)':'Return temperature (°C)'}, inplace = True)\n",
    "            elif col == 'Number of bike stopovers':\n",
    "                tempDF.rename(columns = {'Number of bike stopovers':'Number of stopovers'}, inplace = True)\n",
    "            elif col == 'Stopover duration':\n",
    "                tempDF.rename(columns = {'Stopover duration':'Stopover duration (sec.)'}, inplace = True) \n",
    "        mobiDF = mobiDF.append(tempDF)\n",
    "mobiDF.isna().sum()"
   ]
  },
  {
   "cell_type": "code",
   "execution_count": 143,
   "metadata": {},
   "outputs": [
    {
     "output_type": "execute_result",
     "data": {
      "text/plain": [
       "Departure                        0\n",
       "Return                         153\n",
       "Bike                          1190\n",
       "Departure station                9\n",
       "Return station                 253\n",
       "Membership type                498\n",
       "Covered distance (m)             0\n",
       "Duration (sec.)                  0\n",
       "Departure temperature (°C)       0\n",
       "Return temperature (°C)          0\n",
       "Stopover duration (sec.)         0\n",
       "Number of stopovers              0\n",
       "dtype: int64"
      ]
     },
     "metadata": {},
     "execution_count": 143
    }
   ],
   "source": [
    "mobiDF.drop(['Account', 'Departure battery voltage (mV)', 'Return battery voltage (mV)', 'Departure slot', 'Return slot', 'Manager'], axis = 1, inplace = True)\n",
    "mobiDF.isna().sum()"
   ]
  },
  {
   "cell_type": "code",
   "execution_count": 144,
   "metadata": {},
   "outputs": [
    {
     "output_type": "execute_result",
     "data": {
      "text/plain": [
       "Departure                     0\n",
       "Return                        0\n",
       "Bike                          0\n",
       "Departure station             0\n",
       "Return station                0\n",
       "Membership type               0\n",
       "Covered distance (m)          0\n",
       "Duration (sec.)               0\n",
       "Departure temperature (°C)    0\n",
       "Return temperature (°C)       0\n",
       "Stopover duration (sec.)      0\n",
       "Number of stopovers           0\n",
       "dtype: int64"
      ]
     },
     "metadata": {},
     "execution_count": 144
    }
   ],
   "source": [
    "mobiDF.dropna(inplace = True)\n",
    "mobiDF.isna().sum()"
   ]
  },
  {
   "cell_type": "code",
   "execution_count": 145,
   "metadata": {},
   "outputs": [],
   "source": [
    "mobiDF['Departure'] = pd.to_datetime(mobiDF['Departure'], errors = 'coerce').dt.strftime(\"%m/%d/%y %H:%M\")\n",
    "mobiDF['Return'] = pd.to_datetime(mobiDF['Return'], errors = 'coerce').dt.strftime(\"%m/%d/%y %H:%M\")\n",
    "mobiDF.columns = [c.replace(' ', '_') for c in mobiDF.columns]"
   ]
  },
  {
   "cell_type": "code",
   "execution_count": 146,
   "metadata": {},
   "outputs": [],
   "source": [
    "mobiDF[['Departure_station_ID', 'Departure_Station']] = mobiDF['Departure_station'].str.split(\" \",1, expand = True)\n",
    "mobiDF[['Return_station_ID', 'Return_Station']] = mobiDF['Return_station'].str.split(\" \",1, expand = True)\n",
    "mobiDF.drop(['Departure_station', 'Return_station'],axis = 1, inplace = True)"
   ]
  },
  {
   "cell_type": "code",
   "execution_count": 147,
   "metadata": {},
   "outputs": [
    {
     "output_type": "execute_result",
     "data": {
      "text/plain": [
       "            Departure          Return    Bike            Membership_type  \\\n",
       "0      01/01/18 00:00  01/01/18 00:00   754.0      365 Day Founding Plus   \n",
       "1      01/01/18 00:00  01/01/18 00:00   754.0      365 Day Founding Plus   \n",
       "2      01/01/18 00:00  01/01/18 00:00   517.0  365 Day Founding Standard   \n",
       "3      01/01/18 00:00  01/01/18 00:00   231.0         365 Corporate Plus   \n",
       "4      01/01/18 00:00  01/01/18 00:00  1302.0      365 Day Founding Plus   \n",
       "...               ...             ...     ...                        ...   \n",
       "50862  04/01/21 00:00  04/01/21 01:00  1272.0     365 Day Pass Plus SALE   \n",
       "50863  04/01/21 00:00  04/01/21 00:00   875.0                30 Day Pass   \n",
       "50864  04/01/21 00:00  04/01/21 00:00   380.0                30 Day Pass   \n",
       "50865  04/01/21 00:00  04/01/21 00:00   668.0                30 Day Pass   \n",
       "50866  04/01/21 00:00  04/01/21 00:00  2002.0     365 Day Pass Plus SALE   \n",
       "\n",
       "       Covered_distance_(m)  Duration_(sec.)  Departure_temperature_(°C)  \\\n",
       "0                    1382.0              402                           2   \n",
       "1                       0.0               17                           2   \n",
       "2                    1960.0             1015                           0   \n",
       "3                     624.0              194                           0   \n",
       "4                    1756.0              571                           2   \n",
       "...                     ...              ...                         ...   \n",
       "50862                3904.0             1197                           7   \n",
       "50863                 971.0              361                          11   \n",
       "50864                1502.0              463                           9   \n",
       "50865                1462.0              485                           9   \n",
       "50866                 798.0              449                           8   \n",
       "\n",
       "       Return_temperature_(°C)  Stopover_duration_(sec.)  Number_of_stopovers  \\\n",
       "0                            4                         0                    0   \n",
       "1                            1                         0                    0   \n",
       "2                            1                         0                    0   \n",
       "3                            1                         0                    0   \n",
       "4                            3                         0                    0   \n",
       "...                        ...                       ...                  ...   \n",
       "50862                       10                         0                    0   \n",
       "50863                       13                         0                    0   \n",
       "50864                       11                         0                    0   \n",
       "50865                       11                         0                    0   \n",
       "50866                        8                         0                    0   \n",
       "\n",
       "      Departure_station_ID             Departure_Station Return_station_ID  \\\n",
       "0                     0048             Comox & Broughton              0002   \n",
       "1                     0048             Comox & Broughton              0048   \n",
       "2                     0093               Chilco & Robson              0035   \n",
       "3                     0071              14th & Granville              0211   \n",
       "4                     0187                  Bute & Davie              0079   \n",
       "...                    ...                           ...               ...   \n",
       "50862                 0278  15th & Victoria (Trout Lake)              0228   \n",
       "50863                 0126            Thurlow & Pendrell              0138   \n",
       "50864                 0060             Bidwell & Burnaby              0045   \n",
       "50865                 0060             Bidwell & Burnaby              0045   \n",
       "50866                 0278  15th & Victoria (Trout Lake)              0278   \n",
       "\n",
       "                      Return_Station  \n",
       "0                    Burrard Station  \n",
       "1                  Comox & Broughton  \n",
       "2      Coal Harbour Community Centre  \n",
       "3                       14th & Alder  \n",
       "4                  Nelson & Richards  \n",
       "...                              ...  \n",
       "50862                 Keefer & Hawks  \n",
       "50863            Richards & Helmcken  \n",
       "50864                 Beach & Hornby  \n",
       "50865                 Beach & Hornby  \n",
       "50866   15th & Victoria (Trout Lake)  \n",
       "\n",
       "[2906756 rows x 14 columns]"
      ],
      "text/html": "<div>\n<style scoped>\n    .dataframe tbody tr th:only-of-type {\n        vertical-align: middle;\n    }\n\n    .dataframe tbody tr th {\n        vertical-align: top;\n    }\n\n    .dataframe thead th {\n        text-align: right;\n    }\n</style>\n<table border=\"1\" class=\"dataframe\">\n  <thead>\n    <tr style=\"text-align: right;\">\n      <th></th>\n      <th>Departure</th>\n      <th>Return</th>\n      <th>Bike</th>\n      <th>Membership_type</th>\n      <th>Covered_distance_(m)</th>\n      <th>Duration_(sec.)</th>\n      <th>Departure_temperature_(°C)</th>\n      <th>Return_temperature_(°C)</th>\n      <th>Stopover_duration_(sec.)</th>\n      <th>Number_of_stopovers</th>\n      <th>Departure_station_ID</th>\n      <th>Departure_Station</th>\n      <th>Return_station_ID</th>\n      <th>Return_Station</th>\n    </tr>\n  </thead>\n  <tbody>\n    <tr>\n      <th>0</th>\n      <td>01/01/18 00:00</td>\n      <td>01/01/18 00:00</td>\n      <td>754.0</td>\n      <td>365 Day Founding Plus</td>\n      <td>1382.0</td>\n      <td>402</td>\n      <td>2</td>\n      <td>4</td>\n      <td>0</td>\n      <td>0</td>\n      <td>0048</td>\n      <td>Comox &amp; Broughton</td>\n      <td>0002</td>\n      <td>Burrard Station</td>\n    </tr>\n    <tr>\n      <th>1</th>\n      <td>01/01/18 00:00</td>\n      <td>01/01/18 00:00</td>\n      <td>754.0</td>\n      <td>365 Day Founding Plus</td>\n      <td>0.0</td>\n      <td>17</td>\n      <td>2</td>\n      <td>1</td>\n      <td>0</td>\n      <td>0</td>\n      <td>0048</td>\n      <td>Comox &amp; Broughton</td>\n      <td>0048</td>\n      <td>Comox &amp; Broughton</td>\n    </tr>\n    <tr>\n      <th>2</th>\n      <td>01/01/18 00:00</td>\n      <td>01/01/18 00:00</td>\n      <td>517.0</td>\n      <td>365 Day Founding Standard</td>\n      <td>1960.0</td>\n      <td>1015</td>\n      <td>0</td>\n      <td>1</td>\n      <td>0</td>\n      <td>0</td>\n      <td>0093</td>\n      <td>Chilco &amp; Robson</td>\n      <td>0035</td>\n      <td>Coal Harbour Community Centre</td>\n    </tr>\n    <tr>\n      <th>3</th>\n      <td>01/01/18 00:00</td>\n      <td>01/01/18 00:00</td>\n      <td>231.0</td>\n      <td>365 Corporate Plus</td>\n      <td>624.0</td>\n      <td>194</td>\n      <td>0</td>\n      <td>1</td>\n      <td>0</td>\n      <td>0</td>\n      <td>0071</td>\n      <td>14th &amp; Granville</td>\n      <td>0211</td>\n      <td>14th &amp; Alder</td>\n    </tr>\n    <tr>\n      <th>4</th>\n      <td>01/01/18 00:00</td>\n      <td>01/01/18 00:00</td>\n      <td>1302.0</td>\n      <td>365 Day Founding Plus</td>\n      <td>1756.0</td>\n      <td>571</td>\n      <td>2</td>\n      <td>3</td>\n      <td>0</td>\n      <td>0</td>\n      <td>0187</td>\n      <td>Bute &amp; Davie</td>\n      <td>0079</td>\n      <td>Nelson &amp; Richards</td>\n    </tr>\n    <tr>\n      <th>...</th>\n      <td>...</td>\n      <td>...</td>\n      <td>...</td>\n      <td>...</td>\n      <td>...</td>\n      <td>...</td>\n      <td>...</td>\n      <td>...</td>\n      <td>...</td>\n      <td>...</td>\n      <td>...</td>\n      <td>...</td>\n      <td>...</td>\n      <td>...</td>\n    </tr>\n    <tr>\n      <th>50862</th>\n      <td>04/01/21 00:00</td>\n      <td>04/01/21 01:00</td>\n      <td>1272.0</td>\n      <td>365 Day Pass Plus SALE</td>\n      <td>3904.0</td>\n      <td>1197</td>\n      <td>7</td>\n      <td>10</td>\n      <td>0</td>\n      <td>0</td>\n      <td>0278</td>\n      <td>15th &amp; Victoria (Trout Lake)</td>\n      <td>0228</td>\n      <td>Keefer &amp; Hawks</td>\n    </tr>\n    <tr>\n      <th>50863</th>\n      <td>04/01/21 00:00</td>\n      <td>04/01/21 00:00</td>\n      <td>875.0</td>\n      <td>30 Day Pass</td>\n      <td>971.0</td>\n      <td>361</td>\n      <td>11</td>\n      <td>13</td>\n      <td>0</td>\n      <td>0</td>\n      <td>0126</td>\n      <td>Thurlow &amp; Pendrell</td>\n      <td>0138</td>\n      <td>Richards &amp; Helmcken</td>\n    </tr>\n    <tr>\n      <th>50864</th>\n      <td>04/01/21 00:00</td>\n      <td>04/01/21 00:00</td>\n      <td>380.0</td>\n      <td>30 Day Pass</td>\n      <td>1502.0</td>\n      <td>463</td>\n      <td>9</td>\n      <td>11</td>\n      <td>0</td>\n      <td>0</td>\n      <td>0060</td>\n      <td>Bidwell &amp; Burnaby</td>\n      <td>0045</td>\n      <td>Beach &amp; Hornby</td>\n    </tr>\n    <tr>\n      <th>50865</th>\n      <td>04/01/21 00:00</td>\n      <td>04/01/21 00:00</td>\n      <td>668.0</td>\n      <td>30 Day Pass</td>\n      <td>1462.0</td>\n      <td>485</td>\n      <td>9</td>\n      <td>11</td>\n      <td>0</td>\n      <td>0</td>\n      <td>0060</td>\n      <td>Bidwell &amp; Burnaby</td>\n      <td>0045</td>\n      <td>Beach &amp; Hornby</td>\n    </tr>\n    <tr>\n      <th>50866</th>\n      <td>04/01/21 00:00</td>\n      <td>04/01/21 00:00</td>\n      <td>2002.0</td>\n      <td>365 Day Pass Plus SALE</td>\n      <td>798.0</td>\n      <td>449</td>\n      <td>8</td>\n      <td>8</td>\n      <td>0</td>\n      <td>0</td>\n      <td>0278</td>\n      <td>15th &amp; Victoria (Trout Lake)</td>\n      <td>0278</td>\n      <td>15th &amp; Victoria (Trout Lake)</td>\n    </tr>\n  </tbody>\n</table>\n<p>2906756 rows × 14 columns</p>\n</div>"
     },
     "metadata": {},
     "execution_count": 147
    }
   ],
   "source": [
    "mobiDF"
   ]
  },
  {
   "cell_type": "code",
   "execution_count": null,
   "metadata": {},
   "outputs": [],
   "source": []
  }
 ]
}