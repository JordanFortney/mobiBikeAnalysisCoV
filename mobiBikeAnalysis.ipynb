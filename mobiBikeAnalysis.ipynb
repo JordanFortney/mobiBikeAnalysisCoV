{
 "metadata": {
  "language_info": {
   "codemirror_mode": {
    "name": "ipython",
    "version": 3
   },
   "file_extension": ".py",
   "mimetype": "text/x-python",
   "name": "python",
   "nbconvert_exporter": "python",
   "pygments_lexer": "ipython3",
   "version": "3.8.10"
  },
  "orig_nbformat": 4,
  "kernelspec": {
   "name": "python3",
   "display_name": "Python 3.8.10 64-bit"
  },
  "interpreter": {
   "hash": "f2575392019334285e0602a4035eec46b9260ee4c95297ea34ade6e3c8b8fcaf"
  }
 },
 "nbformat": 4,
 "nbformat_minor": 2,
 "cells": [
  {
   "cell_type": "code",
   "execution_count": 108,
   "metadata": {},
   "outputs": [],
   "source": [
    "import pandas as pd\n",
    "import numpy as np\n",
    "import os\n",
    "import matplotlib.pyplot as plt"
   ]
  },
  {
   "cell_type": "code",
   "execution_count": 109,
   "metadata": {},
   "outputs": [],
   "source": [
    "dataPath = 'data'\n",
    "for file in os.listdir(dataPath):\n",
    "    if file.endswith('.xlsx'):\n",
    "        tempDF = pd.read_excel(dataPath+'/'+file)\n",
    "        tempDF.to_csv(dataPath+'/'+os.path.splitext(file)[0]+'.csv', index = False)"
   ]
  },
  {
   "cell_type": "code",
   "execution_count": 121,
   "metadata": {},
   "outputs": [],
   "source": [
    "mobiDF = pd.DataFrame()\n",
    "for file in os.listdir(dataPath):\n",
    "    if file.endswith('.csv'):\n",
    "        tempDF = pd.read_csv(dataPath+'/'+file)\n",
    "        mobiDF = mobiDF.append(tempDF)\n",
    "mobiDF.reset_index(drop = True, inplace = True)"
   ]
  },
  {
   "cell_type": "code",
   "execution_count": 123,
   "metadata": {},
   "outputs": [
    {
     "output_type": "execute_result",
     "data": {
      "text/plain": [
       "                   Departure               Return  Account    Bike  \\\n",
       "0        2018-01-01 00:00:00  2018-01-01 00:00:00  ID00001   754.0   \n",
       "1        2018-01-01 00:00:00  2018-01-01 00:00:00  ID00001   754.0   \n",
       "2        2018-01-01 00:00:00  2018-01-01 00:00:00  ID00002   517.0   \n",
       "3        2018-01-01 00:00:00  2018-01-01 00:00:00  ID00003   231.0   \n",
       "4        2018-01-01 00:00:00  2018-01-01 00:00:00  ID00004  1302.0   \n",
       "...                      ...                  ...      ...     ...   \n",
       "2908475      2021-04-01 0:00      2021-04-01 1:00      NaN  1272.0   \n",
       "2908476      2021-04-01 0:00      2021-04-01 0:00      NaN   875.0   \n",
       "2908477      2021-04-01 0:00      2021-04-01 0:00      NaN   380.0   \n",
       "2908478      2021-04-01 0:00      2021-04-01 0:00      NaN   668.0   \n",
       "2908479      2021-04-01 0:00      2021-04-01 0:00      NaN  2002.0   \n",
       "\n",
       "                         Departure station  \\\n",
       "0                   0048 Comox & Broughton   \n",
       "1                   0048 Comox & Broughton   \n",
       "2                     0093 Chilco & Robson   \n",
       "3                    0071 14th & Granville   \n",
       "4                        0187 Bute & Davie   \n",
       "...                                    ...   \n",
       "2908475  0278 15th & Victoria (Trout Lake)   \n",
       "2908476            0126 Thurlow & Pendrell   \n",
       "2908477             0060 Bidwell & Burnaby   \n",
       "2908478             0060 Bidwell & Burnaby   \n",
       "2908479  0278 15th & Victoria (Trout Lake)   \n",
       "\n",
       "                             Return station            Membership type  \\\n",
       "0                      0002 Burrard Station      365 Day Founding Plus   \n",
       "1                    0048 Comox & Broughton      365 Day Founding Plus   \n",
       "2        0035 Coal Harbour Community Centre  365 Day Founding Standard   \n",
       "3                         0211 14th & Alder         365 Corporate Plus   \n",
       "4                    0079 Nelson & Richards      365 Day Founding Plus   \n",
       "...                                     ...                        ...   \n",
       "2908475                 0228 Keefer & Hawks     365 Day Pass Plus SALE   \n",
       "2908476            0138 Richards & Helmcken                30 Day Pass   \n",
       "2908477                 0045 Beach & Hornby                30 Day Pass   \n",
       "2908478                 0045 Beach & Hornby                30 Day Pass   \n",
       "2908479   0278 15th & Victoria (Trout Lake)     365 Day Pass Plus SALE   \n",
       "\n",
       "         Covered distance (m)  Duration (sec.)  \\\n",
       "0                      1382.0              402   \n",
       "1                         0.0               17   \n",
       "2                      1960.0             1015   \n",
       "3                       624.0              194   \n",
       "4                      1756.0              571   \n",
       "...                       ...              ...   \n",
       "2908475                3904.0             1197   \n",
       "2908476                 971.0              361   \n",
       "2908477                1502.0              463   \n",
       "2908478                1462.0              485   \n",
       "2908479                 798.0              449   \n",
       "\n",
       "         Departure battery voltage (mV)  ...  Departure slot  Return slot  \\\n",
       "0                                3715.0  ...             NaN          NaN   \n",
       "1                                3797.0  ...             NaN          NaN   \n",
       "2                                3645.0  ...             NaN          NaN   \n",
       "3                                3650.0  ...             NaN          NaN   \n",
       "4                                3686.0  ...             NaN          NaN   \n",
       "...                                 ...  ...             ...          ...   \n",
       "2908475                          3752.0  ...             NaN          NaN   \n",
       "2908476                          3997.0  ...             NaN          NaN   \n",
       "2908477                          3586.0  ...             NaN          NaN   \n",
       "2908478                          3495.0  ...             NaN          NaN   \n",
       "2908479                          3895.0  ...             NaN          NaN   \n",
       "\n",
       "         Departure temperature (deg C)  Return temperature (deg C)  \\\n",
       "0                                  NaN                         NaN   \n",
       "1                                  NaN                         NaN   \n",
       "2                                  NaN                         NaN   \n",
       "3                                  NaN                         NaN   \n",
       "4                                  NaN                         NaN   \n",
       "...                                ...                         ...   \n",
       "2908475                            NaN                         NaN   \n",
       "2908476                            NaN                         NaN   \n",
       "2908477                            NaN                         NaN   \n",
       "2908478                            NaN                         NaN   \n",
       "2908479                            NaN                         NaN   \n",
       "\n",
       "         Departure temperature (C) Return temperature (C) Stopover duration  \\\n",
       "0                              NaN                    NaN               NaN   \n",
       "1                              NaN                    NaN               NaN   \n",
       "2                              NaN                    NaN               NaN   \n",
       "3                              NaN                    NaN               NaN   \n",
       "4                              NaN                    NaN               NaN   \n",
       "...                            ...                    ...               ...   \n",
       "2908475                        7.0                   10.0               NaN   \n",
       "2908476                       11.0                   13.0               NaN   \n",
       "2908477                        9.0                   11.0               NaN   \n",
       "2908478                        9.0                   11.0               NaN   \n",
       "2908479                        8.0                    8.0               NaN   \n",
       "\n",
       "         Manager  Number of bike stopovers  Return temperature (Â°C)  \n",
       "0            NaN                       NaN                       NaN  \n",
       "1            NaN                       NaN                       NaN  \n",
       "2            NaN                       NaN                       NaN  \n",
       "3            NaN                       NaN                       NaN  \n",
       "4            NaN                       NaN                       NaN  \n",
       "...          ...                       ...                       ...  \n",
       "2908475      NaN                       0.0                       NaN  \n",
       "2908476      NaN                       0.0                       NaN  \n",
       "2908477      NaN                       0.0                       NaN  \n",
       "2908478      NaN                       0.0                       NaN  \n",
       "2908479      NaN                       0.0                       NaN  \n",
       "\n",
       "[2908480 rows x 27 columns]"
      ],
      "text/html": "<div>\n<style scoped>\n    .dataframe tbody tr th:only-of-type {\n        vertical-align: middle;\n    }\n\n    .dataframe tbody tr th {\n        vertical-align: top;\n    }\n\n    .dataframe thead th {\n        text-align: right;\n    }\n</style>\n<table border=\"1\" class=\"dataframe\">\n  <thead>\n    <tr style=\"text-align: right;\">\n      <th></th>\n      <th>Departure</th>\n      <th>Return</th>\n      <th>Account</th>\n      <th>Bike</th>\n      <th>Departure station</th>\n      <th>Return station</th>\n      <th>Membership type</th>\n      <th>Covered distance (m)</th>\n      <th>Duration (sec.)</th>\n      <th>Departure battery voltage (mV)</th>\n      <th>...</th>\n      <th>Departure slot</th>\n      <th>Return slot</th>\n      <th>Departure temperature (deg C)</th>\n      <th>Return temperature (deg C)</th>\n      <th>Departure temperature (C)</th>\n      <th>Return temperature (C)</th>\n      <th>Stopover duration</th>\n      <th>Manager</th>\n      <th>Number of bike stopovers</th>\n      <th>Return temperature (Â°C)</th>\n    </tr>\n  </thead>\n  <tbody>\n    <tr>\n      <th>0</th>\n      <td>2018-01-01 00:00:00</td>\n      <td>2018-01-01 00:00:00</td>\n      <td>ID00001</td>\n      <td>754.0</td>\n      <td>0048 Comox &amp; Broughton</td>\n      <td>0002 Burrard Station</td>\n      <td>365 Day Founding Plus</td>\n      <td>1382.0</td>\n      <td>402</td>\n      <td>3715.0</td>\n      <td>...</td>\n      <td>NaN</td>\n      <td>NaN</td>\n      <td>NaN</td>\n      <td>NaN</td>\n      <td>NaN</td>\n      <td>NaN</td>\n      <td>NaN</td>\n      <td>NaN</td>\n      <td>NaN</td>\n      <td>NaN</td>\n    </tr>\n    <tr>\n      <th>1</th>\n      <td>2018-01-01 00:00:00</td>\n      <td>2018-01-01 00:00:00</td>\n      <td>ID00001</td>\n      <td>754.0</td>\n      <td>0048 Comox &amp; Broughton</td>\n      <td>0048 Comox &amp; Broughton</td>\n      <td>365 Day Founding Plus</td>\n      <td>0.0</td>\n      <td>17</td>\n      <td>3797.0</td>\n      <td>...</td>\n      <td>NaN</td>\n      <td>NaN</td>\n      <td>NaN</td>\n      <td>NaN</td>\n      <td>NaN</td>\n      <td>NaN</td>\n      <td>NaN</td>\n      <td>NaN</td>\n      <td>NaN</td>\n      <td>NaN</td>\n    </tr>\n    <tr>\n      <th>2</th>\n      <td>2018-01-01 00:00:00</td>\n      <td>2018-01-01 00:00:00</td>\n      <td>ID00002</td>\n      <td>517.0</td>\n      <td>0093 Chilco &amp; Robson</td>\n      <td>0035 Coal Harbour Community Centre</td>\n      <td>365 Day Founding Standard</td>\n      <td>1960.0</td>\n      <td>1015</td>\n      <td>3645.0</td>\n      <td>...</td>\n      <td>NaN</td>\n      <td>NaN</td>\n      <td>NaN</td>\n      <td>NaN</td>\n      <td>NaN</td>\n      <td>NaN</td>\n      <td>NaN</td>\n      <td>NaN</td>\n      <td>NaN</td>\n      <td>NaN</td>\n    </tr>\n    <tr>\n      <th>3</th>\n      <td>2018-01-01 00:00:00</td>\n      <td>2018-01-01 00:00:00</td>\n      <td>ID00003</td>\n      <td>231.0</td>\n      <td>0071 14th &amp; Granville</td>\n      <td>0211 14th &amp; Alder</td>\n      <td>365 Corporate Plus</td>\n      <td>624.0</td>\n      <td>194</td>\n      <td>3650.0</td>\n      <td>...</td>\n      <td>NaN</td>\n      <td>NaN</td>\n      <td>NaN</td>\n      <td>NaN</td>\n      <td>NaN</td>\n      <td>NaN</td>\n      <td>NaN</td>\n      <td>NaN</td>\n      <td>NaN</td>\n      <td>NaN</td>\n    </tr>\n    <tr>\n      <th>4</th>\n      <td>2018-01-01 00:00:00</td>\n      <td>2018-01-01 00:00:00</td>\n      <td>ID00004</td>\n      <td>1302.0</td>\n      <td>0187 Bute &amp; Davie</td>\n      <td>0079 Nelson &amp; Richards</td>\n      <td>365 Day Founding Plus</td>\n      <td>1756.0</td>\n      <td>571</td>\n      <td>3686.0</td>\n      <td>...</td>\n      <td>NaN</td>\n      <td>NaN</td>\n      <td>NaN</td>\n      <td>NaN</td>\n      <td>NaN</td>\n      <td>NaN</td>\n      <td>NaN</td>\n      <td>NaN</td>\n      <td>NaN</td>\n      <td>NaN</td>\n    </tr>\n    <tr>\n      <th>...</th>\n      <td>...</td>\n      <td>...</td>\n      <td>...</td>\n      <td>...</td>\n      <td>...</td>\n      <td>...</td>\n      <td>...</td>\n      <td>...</td>\n      <td>...</td>\n      <td>...</td>\n      <td>...</td>\n      <td>...</td>\n      <td>...</td>\n      <td>...</td>\n      <td>...</td>\n      <td>...</td>\n      <td>...</td>\n      <td>...</td>\n      <td>...</td>\n      <td>...</td>\n      <td>...</td>\n    </tr>\n    <tr>\n      <th>2908475</th>\n      <td>2021-04-01 0:00</td>\n      <td>2021-04-01 1:00</td>\n      <td>NaN</td>\n      <td>1272.0</td>\n      <td>0278 15th &amp; Victoria (Trout Lake)</td>\n      <td>0228 Keefer &amp; Hawks</td>\n      <td>365 Day Pass Plus SALE</td>\n      <td>3904.0</td>\n      <td>1197</td>\n      <td>3752.0</td>\n      <td>...</td>\n      <td>NaN</td>\n      <td>NaN</td>\n      <td>NaN</td>\n      <td>NaN</td>\n      <td>7.0</td>\n      <td>10.0</td>\n      <td>NaN</td>\n      <td>NaN</td>\n      <td>0.0</td>\n      <td>NaN</td>\n    </tr>\n    <tr>\n      <th>2908476</th>\n      <td>2021-04-01 0:00</td>\n      <td>2021-04-01 0:00</td>\n      <td>NaN</td>\n      <td>875.0</td>\n      <td>0126 Thurlow &amp; Pendrell</td>\n      <td>0138 Richards &amp; Helmcken</td>\n      <td>30 Day Pass</td>\n      <td>971.0</td>\n      <td>361</td>\n      <td>3997.0</td>\n      <td>...</td>\n      <td>NaN</td>\n      <td>NaN</td>\n      <td>NaN</td>\n      <td>NaN</td>\n      <td>11.0</td>\n      <td>13.0</td>\n      <td>NaN</td>\n      <td>NaN</td>\n      <td>0.0</td>\n      <td>NaN</td>\n    </tr>\n    <tr>\n      <th>2908477</th>\n      <td>2021-04-01 0:00</td>\n      <td>2021-04-01 0:00</td>\n      <td>NaN</td>\n      <td>380.0</td>\n      <td>0060 Bidwell &amp; Burnaby</td>\n      <td>0045 Beach &amp; Hornby</td>\n      <td>30 Day Pass</td>\n      <td>1502.0</td>\n      <td>463</td>\n      <td>3586.0</td>\n      <td>...</td>\n      <td>NaN</td>\n      <td>NaN</td>\n      <td>NaN</td>\n      <td>NaN</td>\n      <td>9.0</td>\n      <td>11.0</td>\n      <td>NaN</td>\n      <td>NaN</td>\n      <td>0.0</td>\n      <td>NaN</td>\n    </tr>\n    <tr>\n      <th>2908478</th>\n      <td>2021-04-01 0:00</td>\n      <td>2021-04-01 0:00</td>\n      <td>NaN</td>\n      <td>668.0</td>\n      <td>0060 Bidwell &amp; Burnaby</td>\n      <td>0045 Beach &amp; Hornby</td>\n      <td>30 Day Pass</td>\n      <td>1462.0</td>\n      <td>485</td>\n      <td>3495.0</td>\n      <td>...</td>\n      <td>NaN</td>\n      <td>NaN</td>\n      <td>NaN</td>\n      <td>NaN</td>\n      <td>9.0</td>\n      <td>11.0</td>\n      <td>NaN</td>\n      <td>NaN</td>\n      <td>0.0</td>\n      <td>NaN</td>\n    </tr>\n    <tr>\n      <th>2908479</th>\n      <td>2021-04-01 0:00</td>\n      <td>2021-04-01 0:00</td>\n      <td>NaN</td>\n      <td>2002.0</td>\n      <td>0278 15th &amp; Victoria (Trout Lake)</td>\n      <td>0278 15th &amp; Victoria (Trout Lake)</td>\n      <td>365 Day Pass Plus SALE</td>\n      <td>798.0</td>\n      <td>449</td>\n      <td>3895.0</td>\n      <td>...</td>\n      <td>NaN</td>\n      <td>NaN</td>\n      <td>NaN</td>\n      <td>NaN</td>\n      <td>8.0</td>\n      <td>8.0</td>\n      <td>NaN</td>\n      <td>NaN</td>\n      <td>0.0</td>\n      <td>NaN</td>\n    </tr>\n  </tbody>\n</table>\n<p>2908480 rows × 27 columns</p>\n</div>"
     },
     "metadata": {},
     "execution_count": 123
    }
   ],
   "source": [
    "mobiDF"
   ]
  },
  {
   "cell_type": "code",
   "execution_count": 124,
   "metadata": {},
   "outputs": [],
   "source": [
    "def nullPercent(df):\n",
    "    # Create a temp dataframe for null vlaue totals\n",
    "    nullTotalDF = pd.DataFrame(df.isnull().sum()).reset_index()\n",
    "    nullTotalDF.columns = ['Category', 'Total Null']\n",
    "    # Create a temp dataframe for null value percentages\n",
    "    nullPercentDF = pd.DataFrame(round(df.isnull().sum()/df.shape[0]*100,2)).reset_index()\n",
    "    nullPercentDF.columns = ['Category', 'Percent Null (%)']\n",
    "    # Merge temporary null value datasets and sort by null percentage\n",
    "    nullDF = pd.merge(nullTotalDF, nullPercentDF, on = 'Category')\n",
    "    display(nullDF.sort_values('Percent Null (%)', ascending = False))"
   ]
  },
  {
   "cell_type": "code",
   "execution_count": 125,
   "metadata": {},
   "outputs": [
    {
     "output_type": "display_data",
     "data": {
      "text/plain": "                          Category  Total Null  Percent Null (%)\n26        Return temperature (Â°C)     2876218             98.89\n20      Return temperature (deg C)     2869232             98.65\n19   Departure temperature (deg C)     2869232             98.65\n15                         Formula     2862692             98.43\n23               Stopover duration     2845627             97.84\n24                         Manager     2782010             95.65\n17                  Departure slot     2719422             93.50\n18                     Return slot     2719155             93.49\n25        Number of bike stopovers     2619601             90.07\n16                 Membership Type     2559468             88.00\n2                          Account     2335036             80.28\n12         Return temperature (°C)     1539707             52.94\n11      Departure temperature (°C)     1507445             51.83\n22          Return temperature (C)     1440283             49.52\n21       Departure temperature (C)     1440283             49.52\n6                  Membership type      395298             13.59\n14             Number of stopovers      288879              9.93\n13        Stopover duration (sec.)       62853              2.16\n10     Return battery voltage (mV)       53521              1.84\n9   Departure battery voltage (mV)       53521              1.84\n3                             Bike        1190              0.04\n1                           Return         153              0.01\n5                   Return station         253              0.01\n8                  Duration (sec.)           0              0.00\n7             Covered distance (m)           0              0.00\n4                Departure station           9              0.00\n0                        Departure           0              0.00",
      "text/html": "<div>\n<style scoped>\n    .dataframe tbody tr th:only-of-type {\n        vertical-align: middle;\n    }\n\n    .dataframe tbody tr th {\n        vertical-align: top;\n    }\n\n    .dataframe thead th {\n        text-align: right;\n    }\n</style>\n<table border=\"1\" class=\"dataframe\">\n  <thead>\n    <tr style=\"text-align: right;\">\n      <th></th>\n      <th>Category</th>\n      <th>Total Null</th>\n      <th>Percent Null (%)</th>\n    </tr>\n  </thead>\n  <tbody>\n    <tr>\n      <th>26</th>\n      <td>Return temperature (Â°C)</td>\n      <td>2876218</td>\n      <td>98.89</td>\n    </tr>\n    <tr>\n      <th>20</th>\n      <td>Return temperature (deg C)</td>\n      <td>2869232</td>\n      <td>98.65</td>\n    </tr>\n    <tr>\n      <th>19</th>\n      <td>Departure temperature (deg C)</td>\n      <td>2869232</td>\n      <td>98.65</td>\n    </tr>\n    <tr>\n      <th>15</th>\n      <td>Formula</td>\n      <td>2862692</td>\n      <td>98.43</td>\n    </tr>\n    <tr>\n      <th>23</th>\n      <td>Stopover duration</td>\n      <td>2845627</td>\n      <td>97.84</td>\n    </tr>\n    <tr>\n      <th>24</th>\n      <td>Manager</td>\n      <td>2782010</td>\n      <td>95.65</td>\n    </tr>\n    <tr>\n      <th>17</th>\n      <td>Departure slot</td>\n      <td>2719422</td>\n      <td>93.50</td>\n    </tr>\n    <tr>\n      <th>18</th>\n      <td>Return slot</td>\n      <td>2719155</td>\n      <td>93.49</td>\n    </tr>\n    <tr>\n      <th>25</th>\n      <td>Number of bike stopovers</td>\n      <td>2619601</td>\n      <td>90.07</td>\n    </tr>\n    <tr>\n      <th>16</th>\n      <td>Membership Type</td>\n      <td>2559468</td>\n      <td>88.00</td>\n    </tr>\n    <tr>\n      <th>2</th>\n      <td>Account</td>\n      <td>2335036</td>\n      <td>80.28</td>\n    </tr>\n    <tr>\n      <th>12</th>\n      <td>Return temperature (°C)</td>\n      <td>1539707</td>\n      <td>52.94</td>\n    </tr>\n    <tr>\n      <th>11</th>\n      <td>Departure temperature (°C)</td>\n      <td>1507445</td>\n      <td>51.83</td>\n    </tr>\n    <tr>\n      <th>22</th>\n      <td>Return temperature (C)</td>\n      <td>1440283</td>\n      <td>49.52</td>\n    </tr>\n    <tr>\n      <th>21</th>\n      <td>Departure temperature (C)</td>\n      <td>1440283</td>\n      <td>49.52</td>\n    </tr>\n    <tr>\n      <th>6</th>\n      <td>Membership type</td>\n      <td>395298</td>\n      <td>13.59</td>\n    </tr>\n    <tr>\n      <th>14</th>\n      <td>Number of stopovers</td>\n      <td>288879</td>\n      <td>9.93</td>\n    </tr>\n    <tr>\n      <th>13</th>\n      <td>Stopover duration (sec.)</td>\n      <td>62853</td>\n      <td>2.16</td>\n    </tr>\n    <tr>\n      <th>10</th>\n      <td>Return battery voltage (mV)</td>\n      <td>53521</td>\n      <td>1.84</td>\n    </tr>\n    <tr>\n      <th>9</th>\n      <td>Departure battery voltage (mV)</td>\n      <td>53521</td>\n      <td>1.84</td>\n    </tr>\n    <tr>\n      <th>3</th>\n      <td>Bike</td>\n      <td>1190</td>\n      <td>0.04</td>\n    </tr>\n    <tr>\n      <th>1</th>\n      <td>Return</td>\n      <td>153</td>\n      <td>0.01</td>\n    </tr>\n    <tr>\n      <th>5</th>\n      <td>Return station</td>\n      <td>253</td>\n      <td>0.01</td>\n    </tr>\n    <tr>\n      <th>8</th>\n      <td>Duration (sec.)</td>\n      <td>0</td>\n      <td>0.00</td>\n    </tr>\n    <tr>\n      <th>7</th>\n      <td>Covered distance (m)</td>\n      <td>0</td>\n      <td>0.00</td>\n    </tr>\n    <tr>\n      <th>4</th>\n      <td>Departure station</td>\n      <td>9</td>\n      <td>0.00</td>\n    </tr>\n    <tr>\n      <th>0</th>\n      <td>Departure</td>\n      <td>0</td>\n      <td>0.00</td>\n    </tr>\n  </tbody>\n</table>\n</div>"
     },
     "metadata": {}
    }
   ],
   "source": [
    "nullPercent(mobiDF)"
   ]
  },
  {
   "cell_type": "code",
   "execution_count": 126,
   "metadata": {},
   "outputs": [],
   "source": [
    "mobiDF = pd.DataFrame()\n",
    "for file in os.listdir(dataPath):\n",
    "    if file.endswith('.csv'):\n",
    "        tempDF = pd.read_csv(dataPath+'/'+file)\n",
    "        for c in tempDF.columns:\n",
    "            if c == 'Return temperature (Â°C)':\n",
    "                tempDF.rename(columns = {'Return temperature (Â°C)':'Return temperature (°C)'}, inplace = True)\n",
    "            elif c == 'Formula':\n",
    "                tempDF.rename(columns = {'Formula':'Membership type'}, inplace = True)\n",
    "            elif c == 'Return temperature (deg C)':\n",
    "                tempDF.rename(columns = {'Return temperature (deg C)':'Return temperature (°C)'}, inplace = True)\n",
    "            elif c == 'Departure temperature (deg C)':\n",
    "                tempDF.rename(columns = {'Departure temperature (deg C)':'Departure temperature (°C)'}, inplace = True)\n",
    "            elif c == 'Membership Type':\n",
    "                tempDF.rename(columns = {'Membership Type':'Membership type'}, inplace = True)\n",
    "            elif c == 'Departure temperature (C)':\n",
    "                tempDF.rename(columns = {'Departure temperature (C)':'Departure temperature (°C)'}, inplace = True)\n",
    "            elif c == 'Return temperature (C)':\n",
    "                tempDF.rename(columns = {'Return temperature (C)':'Return temperature (°C)'}, inplace = True)\n",
    "            elif c == 'Number of bike stopovers':\n",
    "                tempDF.rename(columns = {'Number of bike stopovers':'Number of stopovers'}, inplace = True)\n",
    "            elif c == 'Stopover duration':\n",
    "                tempDF.rename(columns = {'Stopover duration':'Stopover duration (sec.)'}, inplace = True)\n",
    "        mobiDF = mobiDF.append(tempDF)\n",
    "mobiDF.reset_index(drop = True, inplace = True)"
   ]
  },
  {
   "cell_type": "code",
   "execution_count": 127,
   "metadata": {},
   "outputs": [
    {
     "output_type": "display_data",
     "data": {
      "text/plain": "                          Category  Total Null  Percent Null (%)\n17                         Manager     2782010             95.65\n15                  Departure slot     2719422             93.50\n16                     Return slot     2719155             93.49\n2                          Account     2335036             80.28\n10     Return battery voltage (mV)       53521              1.84\n9   Departure battery voltage (mV)       53521              1.84\n3                             Bike        1190              0.04\n6                  Membership type         498              0.02\n1                           Return         153              0.01\n5                   Return station         253              0.01\n7             Covered distance (m)           0              0.00\n8                  Duration (sec.)           0              0.00\n11      Departure temperature (°C)           0              0.00\n12         Return temperature (°C)           0              0.00\n13        Stopover duration (sec.)           0              0.00\n14             Number of stopovers           0              0.00\n4                Departure station           9              0.00\n0                        Departure           0              0.00",
      "text/html": "<div>\n<style scoped>\n    .dataframe tbody tr th:only-of-type {\n        vertical-align: middle;\n    }\n\n    .dataframe tbody tr th {\n        vertical-align: top;\n    }\n\n    .dataframe thead th {\n        text-align: right;\n    }\n</style>\n<table border=\"1\" class=\"dataframe\">\n  <thead>\n    <tr style=\"text-align: right;\">\n      <th></th>\n      <th>Category</th>\n      <th>Total Null</th>\n      <th>Percent Null (%)</th>\n    </tr>\n  </thead>\n  <tbody>\n    <tr>\n      <th>17</th>\n      <td>Manager</td>\n      <td>2782010</td>\n      <td>95.65</td>\n    </tr>\n    <tr>\n      <th>15</th>\n      <td>Departure slot</td>\n      <td>2719422</td>\n      <td>93.50</td>\n    </tr>\n    <tr>\n      <th>16</th>\n      <td>Return slot</td>\n      <td>2719155</td>\n      <td>93.49</td>\n    </tr>\n    <tr>\n      <th>2</th>\n      <td>Account</td>\n      <td>2335036</td>\n      <td>80.28</td>\n    </tr>\n    <tr>\n      <th>10</th>\n      <td>Return battery voltage (mV)</td>\n      <td>53521</td>\n      <td>1.84</td>\n    </tr>\n    <tr>\n      <th>9</th>\n      <td>Departure battery voltage (mV)</td>\n      <td>53521</td>\n      <td>1.84</td>\n    </tr>\n    <tr>\n      <th>3</th>\n      <td>Bike</td>\n      <td>1190</td>\n      <td>0.04</td>\n    </tr>\n    <tr>\n      <th>6</th>\n      <td>Membership type</td>\n      <td>498</td>\n      <td>0.02</td>\n    </tr>\n    <tr>\n      <th>1</th>\n      <td>Return</td>\n      <td>153</td>\n      <td>0.01</td>\n    </tr>\n    <tr>\n      <th>5</th>\n      <td>Return station</td>\n      <td>253</td>\n      <td>0.01</td>\n    </tr>\n    <tr>\n      <th>7</th>\n      <td>Covered distance (m)</td>\n      <td>0</td>\n      <td>0.00</td>\n    </tr>\n    <tr>\n      <th>8</th>\n      <td>Duration (sec.)</td>\n      <td>0</td>\n      <td>0.00</td>\n    </tr>\n    <tr>\n      <th>11</th>\n      <td>Departure temperature (°C)</td>\n      <td>0</td>\n      <td>0.00</td>\n    </tr>\n    <tr>\n      <th>12</th>\n      <td>Return temperature (°C)</td>\n      <td>0</td>\n      <td>0.00</td>\n    </tr>\n    <tr>\n      <th>13</th>\n      <td>Stopover duration (sec.)</td>\n      <td>0</td>\n      <td>0.00</td>\n    </tr>\n    <tr>\n      <th>14</th>\n      <td>Number of stopovers</td>\n      <td>0</td>\n      <td>0.00</td>\n    </tr>\n    <tr>\n      <th>4</th>\n      <td>Departure station</td>\n      <td>9</td>\n      <td>0.00</td>\n    </tr>\n    <tr>\n      <th>0</th>\n      <td>Departure</td>\n      <td>0</td>\n      <td>0.00</td>\n    </tr>\n  </tbody>\n</table>\n</div>"
     },
     "metadata": {}
    }
   ],
   "source": [
    "nullPercent(mobiDF)"
   ]
  },
  {
   "cell_type": "code",
   "execution_count": 128,
   "metadata": {},
   "outputs": [],
   "source": [
    "mobiDF.drop(columns = ['Manager', 'Departure slot', 'Return slot', 'Account', 'Departure battery voltage (mV)', 'Return battery voltage (mV)'], inplace = True)"
   ]
  },
  {
   "cell_type": "code",
   "execution_count": 129,
   "metadata": {},
   "outputs": [
    {
     "output_type": "display_data",
     "data": {
      "text/plain": "                      Category  Total Null  Percent Null (%)\n2                         Bike        1190              0.04\n5              Membership type         498              0.02\n1                       Return         153              0.01\n4               Return station         253              0.01\n0                    Departure           0              0.00\n3            Departure station           9              0.00\n6         Covered distance (m)           0              0.00\n7              Duration (sec.)           0              0.00\n8   Departure temperature (°C)           0              0.00\n9      Return temperature (°C)           0              0.00\n10    Stopover duration (sec.)           0              0.00\n11         Number of stopovers           0              0.00",
      "text/html": "<div>\n<style scoped>\n    .dataframe tbody tr th:only-of-type {\n        vertical-align: middle;\n    }\n\n    .dataframe tbody tr th {\n        vertical-align: top;\n    }\n\n    .dataframe thead th {\n        text-align: right;\n    }\n</style>\n<table border=\"1\" class=\"dataframe\">\n  <thead>\n    <tr style=\"text-align: right;\">\n      <th></th>\n      <th>Category</th>\n      <th>Total Null</th>\n      <th>Percent Null (%)</th>\n    </tr>\n  </thead>\n  <tbody>\n    <tr>\n      <th>2</th>\n      <td>Bike</td>\n      <td>1190</td>\n      <td>0.04</td>\n    </tr>\n    <tr>\n      <th>5</th>\n      <td>Membership type</td>\n      <td>498</td>\n      <td>0.02</td>\n    </tr>\n    <tr>\n      <th>1</th>\n      <td>Return</td>\n      <td>153</td>\n      <td>0.01</td>\n    </tr>\n    <tr>\n      <th>4</th>\n      <td>Return station</td>\n      <td>253</td>\n      <td>0.01</td>\n    </tr>\n    <tr>\n      <th>0</th>\n      <td>Departure</td>\n      <td>0</td>\n      <td>0.00</td>\n    </tr>\n    <tr>\n      <th>3</th>\n      <td>Departure station</td>\n      <td>9</td>\n      <td>0.00</td>\n    </tr>\n    <tr>\n      <th>6</th>\n      <td>Covered distance (m)</td>\n      <td>0</td>\n      <td>0.00</td>\n    </tr>\n    <tr>\n      <th>7</th>\n      <td>Duration (sec.)</td>\n      <td>0</td>\n      <td>0.00</td>\n    </tr>\n    <tr>\n      <th>8</th>\n      <td>Departure temperature (°C)</td>\n      <td>0</td>\n      <td>0.00</td>\n    </tr>\n    <tr>\n      <th>9</th>\n      <td>Return temperature (°C)</td>\n      <td>0</td>\n      <td>0.00</td>\n    </tr>\n    <tr>\n      <th>10</th>\n      <td>Stopover duration (sec.)</td>\n      <td>0</td>\n      <td>0.00</td>\n    </tr>\n    <tr>\n      <th>11</th>\n      <td>Number of stopovers</td>\n      <td>0</td>\n      <td>0.00</td>\n    </tr>\n  </tbody>\n</table>\n</div>"
     },
     "metadata": {}
    }
   ],
   "source": [
    "nullPercent(mobiDF)"
   ]
  },
  {
   "cell_type": "code",
   "execution_count": 130,
   "metadata": {},
   "outputs": [],
   "source": [
    "mobiDF.dropna(inplace = True)"
   ]
  },
  {
   "cell_type": "code",
   "execution_count": 131,
   "metadata": {},
   "outputs": [
    {
     "output_type": "display_data",
     "data": {
      "text/plain": "                      Category  Total Null  Percent Null (%)\n0                    Departure           0               0.0\n1                       Return           0               0.0\n2                         Bike           0               0.0\n3            Departure station           0               0.0\n4               Return station           0               0.0\n5              Membership type           0               0.0\n6         Covered distance (m)           0               0.0\n7              Duration (sec.)           0               0.0\n8   Departure temperature (°C)           0               0.0\n9      Return temperature (°C)           0               0.0\n10    Stopover duration (sec.)           0               0.0\n11         Number of stopovers           0               0.0",
      "text/html": "<div>\n<style scoped>\n    .dataframe tbody tr th:only-of-type {\n        vertical-align: middle;\n    }\n\n    .dataframe tbody tr th {\n        vertical-align: top;\n    }\n\n    .dataframe thead th {\n        text-align: right;\n    }\n</style>\n<table border=\"1\" class=\"dataframe\">\n  <thead>\n    <tr style=\"text-align: right;\">\n      <th></th>\n      <th>Category</th>\n      <th>Total Null</th>\n      <th>Percent Null (%)</th>\n    </tr>\n  </thead>\n  <tbody>\n    <tr>\n      <th>0</th>\n      <td>Departure</td>\n      <td>0</td>\n      <td>0.0</td>\n    </tr>\n    <tr>\n      <th>1</th>\n      <td>Return</td>\n      <td>0</td>\n      <td>0.0</td>\n    </tr>\n    <tr>\n      <th>2</th>\n      <td>Bike</td>\n      <td>0</td>\n      <td>0.0</td>\n    </tr>\n    <tr>\n      <th>3</th>\n      <td>Departure station</td>\n      <td>0</td>\n      <td>0.0</td>\n    </tr>\n    <tr>\n      <th>4</th>\n      <td>Return station</td>\n      <td>0</td>\n      <td>0.0</td>\n    </tr>\n    <tr>\n      <th>5</th>\n      <td>Membership type</td>\n      <td>0</td>\n      <td>0.0</td>\n    </tr>\n    <tr>\n      <th>6</th>\n      <td>Covered distance (m)</td>\n      <td>0</td>\n      <td>0.0</td>\n    </tr>\n    <tr>\n      <th>7</th>\n      <td>Duration (sec.)</td>\n      <td>0</td>\n      <td>0.0</td>\n    </tr>\n    <tr>\n      <th>8</th>\n      <td>Departure temperature (°C)</td>\n      <td>0</td>\n      <td>0.0</td>\n    </tr>\n    <tr>\n      <th>9</th>\n      <td>Return temperature (°C)</td>\n      <td>0</td>\n      <td>0.0</td>\n    </tr>\n    <tr>\n      <th>10</th>\n      <td>Stopover duration (sec.)</td>\n      <td>0</td>\n      <td>0.0</td>\n    </tr>\n    <tr>\n      <th>11</th>\n      <td>Number of stopovers</td>\n      <td>0</td>\n      <td>0.0</td>\n    </tr>\n  </tbody>\n</table>\n</div>"
     },
     "metadata": {}
    }
   ],
   "source": [
    "nullPercent(mobiDF)"
   ]
  },
  {
   "cell_type": "code",
   "execution_count": 132,
   "metadata": {},
   "outputs": [
    {
     "output_type": "execute_result",
     "data": {
      "text/plain": [
       "                   Departure               Return    Bike  \\\n",
       "0        2018-01-01 00:00:00  2018-01-01 00:00:00   754.0   \n",
       "1        2018-01-01 00:00:00  2018-01-01 00:00:00   754.0   \n",
       "2        2018-01-01 00:00:00  2018-01-01 00:00:00   517.0   \n",
       "3        2018-01-01 00:00:00  2018-01-01 00:00:00   231.0   \n",
       "4        2018-01-01 00:00:00  2018-01-01 00:00:00  1302.0   \n",
       "...                      ...                  ...     ...   \n",
       "2908475      2021-04-01 0:00      2021-04-01 1:00  1272.0   \n",
       "2908476      2021-04-01 0:00      2021-04-01 0:00   875.0   \n",
       "2908477      2021-04-01 0:00      2021-04-01 0:00   380.0   \n",
       "2908478      2021-04-01 0:00      2021-04-01 0:00   668.0   \n",
       "2908479      2021-04-01 0:00      2021-04-01 0:00  2002.0   \n",
       "\n",
       "                         Departure station  \\\n",
       "0                   0048 Comox & Broughton   \n",
       "1                   0048 Comox & Broughton   \n",
       "2                     0093 Chilco & Robson   \n",
       "3                    0071 14th & Granville   \n",
       "4                        0187 Bute & Davie   \n",
       "...                                    ...   \n",
       "2908475  0278 15th & Victoria (Trout Lake)   \n",
       "2908476            0126 Thurlow & Pendrell   \n",
       "2908477             0060 Bidwell & Burnaby   \n",
       "2908478             0060 Bidwell & Burnaby   \n",
       "2908479  0278 15th & Victoria (Trout Lake)   \n",
       "\n",
       "                             Return station            Membership type  \\\n",
       "0                      0002 Burrard Station      365 Day Founding Plus   \n",
       "1                    0048 Comox & Broughton      365 Day Founding Plus   \n",
       "2        0035 Coal Harbour Community Centre  365 Day Founding Standard   \n",
       "3                         0211 14th & Alder         365 Corporate Plus   \n",
       "4                    0079 Nelson & Richards      365 Day Founding Plus   \n",
       "...                                     ...                        ...   \n",
       "2908475                 0228 Keefer & Hawks     365 Day Pass Plus SALE   \n",
       "2908476            0138 Richards & Helmcken                30 Day Pass   \n",
       "2908477                 0045 Beach & Hornby                30 Day Pass   \n",
       "2908478                 0045 Beach & Hornby                30 Day Pass   \n",
       "2908479   0278 15th & Victoria (Trout Lake)     365 Day Pass Plus SALE   \n",
       "\n",
       "         Covered distance (m)  Duration (sec.)  Departure temperature (°C)  \\\n",
       "0                      1382.0              402                           2   \n",
       "1                         0.0               17                           2   \n",
       "2                      1960.0             1015                           0   \n",
       "3                       624.0              194                           0   \n",
       "4                      1756.0              571                           2   \n",
       "...                       ...              ...                         ...   \n",
       "2908475                3904.0             1197                           7   \n",
       "2908476                 971.0              361                          11   \n",
       "2908477                1502.0              463                           9   \n",
       "2908478                1462.0              485                           9   \n",
       "2908479                 798.0              449                           8   \n",
       "\n",
       "         Return temperature (°C)  Stopover duration (sec.)  \\\n",
       "0                              4                         0   \n",
       "1                              1                         0   \n",
       "2                              1                         0   \n",
       "3                              1                         0   \n",
       "4                              3                         0   \n",
       "...                          ...                       ...   \n",
       "2908475                       10                         0   \n",
       "2908476                       13                         0   \n",
       "2908477                       11                         0   \n",
       "2908478                       11                         0   \n",
       "2908479                        8                         0   \n",
       "\n",
       "         Number of stopovers  \n",
       "0                          0  \n",
       "1                          0  \n",
       "2                          0  \n",
       "3                          0  \n",
       "4                          0  \n",
       "...                      ...  \n",
       "2908475                    0  \n",
       "2908476                    0  \n",
       "2908477                    0  \n",
       "2908478                    0  \n",
       "2908479                    0  \n",
       "\n",
       "[2906756 rows x 12 columns]"
      ],
      "text/html": "<div>\n<style scoped>\n    .dataframe tbody tr th:only-of-type {\n        vertical-align: middle;\n    }\n\n    .dataframe tbody tr th {\n        vertical-align: top;\n    }\n\n    .dataframe thead th {\n        text-align: right;\n    }\n</style>\n<table border=\"1\" class=\"dataframe\">\n  <thead>\n    <tr style=\"text-align: right;\">\n      <th></th>\n      <th>Departure</th>\n      <th>Return</th>\n      <th>Bike</th>\n      <th>Departure station</th>\n      <th>Return station</th>\n      <th>Membership type</th>\n      <th>Covered distance (m)</th>\n      <th>Duration (sec.)</th>\n      <th>Departure temperature (°C)</th>\n      <th>Return temperature (°C)</th>\n      <th>Stopover duration (sec.)</th>\n      <th>Number of stopovers</th>\n    </tr>\n  </thead>\n  <tbody>\n    <tr>\n      <th>0</th>\n      <td>2018-01-01 00:00:00</td>\n      <td>2018-01-01 00:00:00</td>\n      <td>754.0</td>\n      <td>0048 Comox &amp; Broughton</td>\n      <td>0002 Burrard Station</td>\n      <td>365 Day Founding Plus</td>\n      <td>1382.0</td>\n      <td>402</td>\n      <td>2</td>\n      <td>4</td>\n      <td>0</td>\n      <td>0</td>\n    </tr>\n    <tr>\n      <th>1</th>\n      <td>2018-01-01 00:00:00</td>\n      <td>2018-01-01 00:00:00</td>\n      <td>754.0</td>\n      <td>0048 Comox &amp; Broughton</td>\n      <td>0048 Comox &amp; Broughton</td>\n      <td>365 Day Founding Plus</td>\n      <td>0.0</td>\n      <td>17</td>\n      <td>2</td>\n      <td>1</td>\n      <td>0</td>\n      <td>0</td>\n    </tr>\n    <tr>\n      <th>2</th>\n      <td>2018-01-01 00:00:00</td>\n      <td>2018-01-01 00:00:00</td>\n      <td>517.0</td>\n      <td>0093 Chilco &amp; Robson</td>\n      <td>0035 Coal Harbour Community Centre</td>\n      <td>365 Day Founding Standard</td>\n      <td>1960.0</td>\n      <td>1015</td>\n      <td>0</td>\n      <td>1</td>\n      <td>0</td>\n      <td>0</td>\n    </tr>\n    <tr>\n      <th>3</th>\n      <td>2018-01-01 00:00:00</td>\n      <td>2018-01-01 00:00:00</td>\n      <td>231.0</td>\n      <td>0071 14th &amp; Granville</td>\n      <td>0211 14th &amp; Alder</td>\n      <td>365 Corporate Plus</td>\n      <td>624.0</td>\n      <td>194</td>\n      <td>0</td>\n      <td>1</td>\n      <td>0</td>\n      <td>0</td>\n    </tr>\n    <tr>\n      <th>4</th>\n      <td>2018-01-01 00:00:00</td>\n      <td>2018-01-01 00:00:00</td>\n      <td>1302.0</td>\n      <td>0187 Bute &amp; Davie</td>\n      <td>0079 Nelson &amp; Richards</td>\n      <td>365 Day Founding Plus</td>\n      <td>1756.0</td>\n      <td>571</td>\n      <td>2</td>\n      <td>3</td>\n      <td>0</td>\n      <td>0</td>\n    </tr>\n    <tr>\n      <th>...</th>\n      <td>...</td>\n      <td>...</td>\n      <td>...</td>\n      <td>...</td>\n      <td>...</td>\n      <td>...</td>\n      <td>...</td>\n      <td>...</td>\n      <td>...</td>\n      <td>...</td>\n      <td>...</td>\n      <td>...</td>\n    </tr>\n    <tr>\n      <th>2908475</th>\n      <td>2021-04-01 0:00</td>\n      <td>2021-04-01 1:00</td>\n      <td>1272.0</td>\n      <td>0278 15th &amp; Victoria (Trout Lake)</td>\n      <td>0228 Keefer &amp; Hawks</td>\n      <td>365 Day Pass Plus SALE</td>\n      <td>3904.0</td>\n      <td>1197</td>\n      <td>7</td>\n      <td>10</td>\n      <td>0</td>\n      <td>0</td>\n    </tr>\n    <tr>\n      <th>2908476</th>\n      <td>2021-04-01 0:00</td>\n      <td>2021-04-01 0:00</td>\n      <td>875.0</td>\n      <td>0126 Thurlow &amp; Pendrell</td>\n      <td>0138 Richards &amp; Helmcken</td>\n      <td>30 Day Pass</td>\n      <td>971.0</td>\n      <td>361</td>\n      <td>11</td>\n      <td>13</td>\n      <td>0</td>\n      <td>0</td>\n    </tr>\n    <tr>\n      <th>2908477</th>\n      <td>2021-04-01 0:00</td>\n      <td>2021-04-01 0:00</td>\n      <td>380.0</td>\n      <td>0060 Bidwell &amp; Burnaby</td>\n      <td>0045 Beach &amp; Hornby</td>\n      <td>30 Day Pass</td>\n      <td>1502.0</td>\n      <td>463</td>\n      <td>9</td>\n      <td>11</td>\n      <td>0</td>\n      <td>0</td>\n    </tr>\n    <tr>\n      <th>2908478</th>\n      <td>2021-04-01 0:00</td>\n      <td>2021-04-01 0:00</td>\n      <td>668.0</td>\n      <td>0060 Bidwell &amp; Burnaby</td>\n      <td>0045 Beach &amp; Hornby</td>\n      <td>30 Day Pass</td>\n      <td>1462.0</td>\n      <td>485</td>\n      <td>9</td>\n      <td>11</td>\n      <td>0</td>\n      <td>0</td>\n    </tr>\n    <tr>\n      <th>2908479</th>\n      <td>2021-04-01 0:00</td>\n      <td>2021-04-01 0:00</td>\n      <td>2002.0</td>\n      <td>0278 15th &amp; Victoria (Trout Lake)</td>\n      <td>0278 15th &amp; Victoria (Trout Lake)</td>\n      <td>365 Day Pass Plus SALE</td>\n      <td>798.0</td>\n      <td>449</td>\n      <td>8</td>\n      <td>8</td>\n      <td>0</td>\n      <td>0</td>\n    </tr>\n  </tbody>\n</table>\n<p>2906756 rows × 12 columns</p>\n</div>"
     },
     "metadata": {},
     "execution_count": 132
    }
   ],
   "source": [
    "mobiDF"
   ]
  },
  {
   "cell_type": "code",
   "execution_count": null,
   "metadata": {},
   "outputs": [],
   "source": []
  }
 ]
}